{
 "cells": [
  {
   "cell_type": "code",
   "execution_count": 45,
   "metadata": {
    "collapsed": true
   },
   "outputs": [],
   "source": [
    "# -*- coding:utf-8 -*-\n",
    "import requests\n",
    "import pandas as pd\n",
    "from bs4 import BeautifulSoup\n",
    "from multiprocessing import Pool\n",
    "import json\n",
    "import re"
   ]
  },
  {
   "cell_type": "code",
   "execution_count": null,
   "metadata": {
    "collapsed": true
   },
   "outputs": [],
   "source": []
  },
  {
   "cell_type": "code",
   "execution_count": 3,
   "metadata": {
    "collapsed": false
   },
   "outputs": [],
   "source": [
    "url = 'http://www.10000recipe.com/recipe/list.html?order=date&page='"
   ]
  },
  {
   "cell_type": "code",
   "execution_count": 13,
   "metadata": {
    "collapsed": true
   },
   "outputs": [],
   "source": [
    "recipe_href_arr = []\n",
    "for num in range(1,4545):\n",
    "    url2 = url+str(num)\n",
    "    response = requests.get(url2)\n",
    "    soup = BeautifulSoup(response.text, 'html.parser')\n",
    "    recipe_href_arr.append(list(map(lambda x: x['href'], soup.find_all('a', 'thumbnail'))))"
   ]
  },
  {
   "cell_type": "code",
   "execution_count": 5,
   "metadata": {
    "collapsed": true
   },
   "outputs": [],
   "source": [
    "url2 = url +str(1)\n",
    "response = requests.get(url2)\n",
    "soup = BeautifulSoup(response.text, 'html.parser')"
   ]
  },
  {
   "cell_type": "code",
   "execution_count": 12,
   "metadata": {
    "collapsed": false
   },
   "outputs": [
    {
     "data": {
      "text/plain": [
       "['/recipe/6873771',\n",
       " '/recipe/6873768',\n",
       " '/recipe/6873767',\n",
       " '/recipe/6873766',\n",
       " '/recipe/6873765',\n",
       " '/recipe/6873764',\n",
       " '/recipe/6873763',\n",
       " '/recipe/6873762',\n",
       " '/recipe/6873761',\n",
       " '/recipe/6873760',\n",
       " '/recipe/6873759',\n",
       " '/recipe/6873758',\n",
       " '/recipe/6873757',\n",
       " '/recipe/6873755',\n",
       " '/recipe/6873754',\n",
       " '/recipe/6873752',\n",
       " '/recipe/6873751',\n",
       " '/recipe/6873750']"
      ]
     },
     "execution_count": 12,
     "metadata": {},
     "output_type": "execute_result"
    }
   ],
   "source": [
    "list(map(lambda x: x['href'], soup.find_all('a', 'thumbnail')))"
   ]
  },
  {
   "cell_type": "code",
   "execution_count": 14,
   "metadata": {
    "collapsed": true
   },
   "outputs": [],
   "source": [
    "def g_links():\n",
    "    urls_arr = []\n",
    "    for i in range(0, 5000):\n",
    "        url = 'http://haemukja.com/recipes/'+str(i)\n",
    "        urls_arr.append(url)\n",
    "    return urls_arr"
   ]
  },
  {
   "cell_type": "code",
   "execution_count": 15,
   "metadata": {
    "collapsed": true
   },
   "outputs": [],
   "source": [
    "def get_data(url2):\n",
    "    response = requests.get(url2)\n",
    "    soup = BeautifulSoup(response.text, 'html.parser')\n",
    "    return list(map(lambda x: x['href'], soup.find_all('a', 'thumbnail')))"
   ]
  },
  {
   "cell_type": "code",
   "execution_count": 20,
   "metadata": {
    "collapsed": false
   },
   "outputs": [],
   "source": [
    "flattened = [val for sublist in recipe_href_arr for val in sublist]"
   ]
  },
  {
   "cell_type": "code",
   "execution_count": 25,
   "metadata": {
    "collapsed": false
   },
   "outputs": [],
   "source": [
    "url_arr = list(map(lambda x: 'http://www.10000recipe.com'+x, flattened))"
   ]
  },
  {
   "cell_type": "code",
   "execution_count": 28,
   "metadata": {
    "collapsed": false
   },
   "outputs": [],
   "source": [
    "pd.DataFrame(url_arr).to_csv('10k_recipe_urls.csv')"
   ]
  },
  {
   "cell_type": "code",
   "execution_count": 53,
   "metadata": {
    "collapsed": false
   },
   "outputs": [
    {
     "ename": "NameError",
     "evalue": "name 'encode' is not defined",
     "output_type": "error",
     "traceback": [
      "\u001b[0;31m---------------------------------------------------------------------------\u001b[0m",
      "\u001b[0;31mNameError\u001b[0m                                 Traceback (most recent call last)",
      "\u001b[0;32m<ipython-input-53-f77ad37ba7a7>\u001b[0m in \u001b[0;36m<module>\u001b[0;34m()\u001b[0m\n\u001b[1;32m      1\u001b[0m \u001b[0mresponse\u001b[0m \u001b[0;34m=\u001b[0m \u001b[0mrequests\u001b[0m\u001b[0;34m.\u001b[0m\u001b[0mget\u001b[0m\u001b[0;34m(\u001b[0m\u001b[0murl_arr\u001b[0m\u001b[0;34m[\u001b[0m\u001b[0;36m0\u001b[0m\u001b[0;34m]\u001b[0m\u001b[0;34m)\u001b[0m\u001b[0;34m\u001b[0m\u001b[0m\n\u001b[0;32m----> 2\u001b[0;31m \u001b[0msoup\u001b[0m \u001b[0;34m=\u001b[0m \u001b[0mBeautifulSoup\u001b[0m\u001b[0;34m(\u001b[0m\u001b[0mresponse\u001b[0m\u001b[0;34m.\u001b[0m\u001b[0mtext\u001b[0m\u001b[0;34m,\u001b[0m \u001b[0;34m'html.parser'\u001b[0m\u001b[0;34m,\u001b[0m \u001b[0mencode\u001b[0m\u001b[0;34m(\u001b[0m\u001b[0;34m'utf-8'\u001b[0m\u001b[0;34m)\u001b[0m\u001b[0;34m)\u001b[0m\u001b[0;34m\u001b[0m\u001b[0m\n\u001b[0m",
      "\u001b[0;31mNameError\u001b[0m: name 'encode' is not defined"
     ]
    }
   ],
   "source": [
    "response = requests.get(url_arr[0])\n",
    "soup = BeautifulSoup(response.text, 'html.parser')"
   ]
  },
  {
   "cell_type": "code",
   "execution_count": 59,
   "metadata": {
    "collapsed": false
   },
   "outputs": [
    {
     "data": {
      "text/plain": [
       "<div class=\"cont_ingre\">\n",
       "<dl>\n",
       "<dt>[ì¬ë£]</dt>\n",
       "<dd>ì í¸ë° 1 ê°, í ë§í  2 ê°, ìí 1 ê°, ê°ì§ 1 ê°, ê°ì 2 ê°, íí ë§í  í ìº, ìíê³ ë²ì¯ ( ìì°ì°ì´ë©´ ë ì¢ì ) 3 - 5 ê°, ë°ì§ íì´ì¤í¸ ì½ê°, í ë§í  íì´ì¤í¸ í ìº, ë°ì§ì¤ì¼ ( ì¬ë¦¬ë¸ì¤ì¼ë¡ ëì²´ ê°ë¥ ) ì·¨í¥ê», ë°ì§ìì´ ( ë ëª¬ì¼ë¡ ëì²´ ê°ë¥ ) ì·¨í¥ê», íì½ë¦¬ë\n",
       "¸ ì¹ì¦ ( íë§ì° ì¹ì¦ ) ì·¨í¥ê», íì¶ê°ë£¨ ( ìºí¿ ííì¶ ) ì·¨í¥ê»</dd>\n",
       "</dl>\n",
       "</div>"
      ]
     },
     "execution_count": 59,
     "metadata": {},
     "output_type": "execute_result"
    }
   ],
   "source": [
    "# -*- coding:utf-8 -*-\n",
    "soup.find('div','cont_ingre')"
   ]
  },
  {
   "cell_type": "code",
   "execution_count": 57,
   "metadata": {
    "collapsed": false
   },
   "outputs": [
    {
     "data": {
      "text/plain": [
       "'\\n\\n[ì\\x9e¬ë£\\x8c]\\nì\\x95\\xa0í\\x98¸ë°\\x95 1 ê°\\x9c, í\\x86\\xa0ë§\\x88í\\x86\\xa0 2 ê°\\x9c, ì\\x96\\x91í\\x8c\\x8c 1 ê°\\x9c, ê°\\x80ì§\\x80 1 ê°\\x9c, ê°\\x90ì\\x9e\\x90 2 ê°\\x9c, í\\x99\\x80í\\x86\\xa0ë§\\x88í\\x86\\xa0 í\\x95\\x9c ìº\\x94, ì\\x83\\x9dí\\x91\\x9cê³\\xa0ë²\\x84ì\\x84¯ ( ì\\x9e\\x90ì\\x97°ì\\x82°ì\\x9d´ë©´ ë\\x8d\\x94 ì¢\\x8bì\\x9d\\x8c ) 3 - 5 ê°\\x9c, ë°\\x94ì§\\x88 í\\x8e\\x98ì\\x9d´ì\\x8a¤í\\x8a¸ ì\\x95½ê°\\x84, í\\x86\\xa0ë§\\x88í\\x86\\xa0 í\\x8e\\x98ì\\x9d´ì\\x8a¤í\\x8a¸ í\\x95\\x9c ìº\\x94, ë°\\x94ì§\\x88ì\\x98¤ì\\x9d¼ ( ì\\x98¬ë¦¬ë¸\\x8cì\\x98¤ì\\x9d¼ë¡\\x9c ë\\x8c\\x80ì²´ ê°\\x80ë\\x8a¥ ) ì·¨í\\x96¥ê»\\x8f, ë°\\x94ì§\\x88ì\\x8b\\x9dì´\\x88 ( ë\\xa0\\x88ëª¬ì\\x9c¼ë¡\\x9c ë\\x8c\\x80ì²´ ê°\\x80ë\\x8a¥ ) ì·¨í\\x96¥ê»\\x8f, í\\x8e\\x98ì½\\x94ë¦¬ë\\x85¸ ì¹\\x98ì¦\\x88 ( í\\x8c\\x8cë§\\x88ì\\x82° ì¹\\x98ì¦\\x88 ) ì·¨í\\x96¥ê»\\x8f, í\\x9b\\x84ì¶\\x94ê°\\x80ë£¨ ( ìº\\x84í\\x8f¿ í\\x9d\\x91í\\x9b\\x84ì¶\\x94 ) ì·¨í\\x96¥ê»\\x8f\\n\\n'"
      ]
     },
     "execution_count": 57,
     "metadata": {},
     "output_type": "execute_result"
    }
   ],
   "source": [
    "u'\\n\\n[ì\\x9e¬ë£\\x8c]\\nì\\x95\\xa0í\\x98¸ë°\\x95 1 ê°\\x9c, í\\x86\\xa0ë§\\x88í\\x86\\xa0 2 ê°\\x9c, ì\\x96\\x91í\\x8c\\x8c 1 ê°\\x9c, ê°\\x80ì§\\x80 1 ê°\\x9c, ê°\\x90ì\\x9e\\x90 2 ê°\\x9c, í\\x99\\x80í\\x86\\xa0ë§\\x88í\\x86\\xa0 í\\x95\\x9c ìº\\x94, ì\\x83\\x9dí\\x91\\x9cê³\\xa0ë²\\x84ì\\x84¯ ( ì\\x9e\\x90ì\\x97°ì\\x82°ì\\x9d´ë©´ ë\\x8d\\x94 ì¢\\x8bì\\x9d\\x8c ) 3 - 5 ê°\\x9c, ë°\\x94ì§\\x88 í\\x8e\\x98ì\\x9d´ì\\x8a¤í\\x8a¸ ì\\x95½ê°\\x84, í\\x86\\xa0ë§\\x88í\\x86\\xa0 í\\x8e\\x98ì\\x9d´ì\\x8a¤í\\x8a¸ í\\x95\\x9c ìº\\x94, ë°\\x94ì§\\x88ì\\x98¤ì\\x9d¼ ( ì\\x98¬ë¦¬ë¸\\x8cì\\x98¤ì\\x9d¼ë¡\\x9c ë\\x8c\\x80ì²´ ê°\\x80ë\\x8a¥ ) ì·¨í\\x96¥ê»\\x8f, ë°\\x94ì§\\x88ì\\x8b\\x9dì´\\x88 ( ë\\xa0\\x88ëª¬ì\\x9c¼ë¡\\x9c ë\\x8c\\x80ì²´ ê°\\x80ë\\x8a¥ ) ì·¨í\\x96¥ê»\\x8f, í\\x8e\\x98ì½\\x94ë¦¬ë\\x85¸ ì¹\\x98ì¦\\x88 ( í\\x8c\\x8cë§\\x88ì\\x82° ì¹\\x98ì¦\\x88 ) ì·¨í\\x96¥ê»\\x8f, í\\x9b\\x84ì¶\\x94ê°\\x80ë£¨ ( ìº\\x84í\\x8f¿ í\\x9d\\x91í\\x9b\\x84ì¶\\x94 ) ì·¨í\\x96¥ê»\\x8f\\n\\n'"
   ]
  },
  {
   "cell_type": "code",
   "execution_count": null,
   "metadata": {
    "collapsed": true
   },
   "outputs": [],
   "source": []
  },
  {
   "cell_type": "code",
   "execution_count": null,
   "metadata": {
    "collapsed": true
   },
   "outputs": [],
   "source": []
  },
  {
   "cell_type": "code",
   "execution_count": null,
   "metadata": {
    "collapsed": true
   },
   "outputs": [],
   "source": []
  },
  {
   "cell_type": "code",
   "execution_count": null,
   "metadata": {
    "collapsed": true
   },
   "outputs": [],
   "source": []
  },
  {
   "cell_type": "code",
   "execution_count": null,
   "metadata": {
    "collapsed": true
   },
   "outputs": [],
   "source": []
  }
 ],
 "metadata": {
  "kernelspec": {
   "display_name": "Python 3",
   "language": "python",
   "name": "python3"
  },
  "language_info": {
   "codemirror_mode": {
    "name": "ipython",
    "version": 3
   },
   "file_extension": ".py",
   "mimetype": "text/x-python",
   "name": "python",
   "nbconvert_exporter": "python",
   "pygments_lexer": "ipython3",
   "version": "3.5.2"
  }
 },
 "nbformat": 4,
 "nbformat_minor": 2
}
